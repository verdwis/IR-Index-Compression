{
  "nbformat": 4,
  "nbformat_minor": 0,
  "metadata": {
    "colab": {
      "provenance": [],
      "include_colab_link": true
    },
    "kernelspec": {
      "name": "python3",
      "display_name": "Python 3"
    },
    "language_info": {
      "name": "python"
    }
  },
  "cells": [
    {
      "cell_type": "markdown",
      "metadata": {
        "id": "view-in-github",
        "colab_type": "text"
      },
      "source": [
        "<a href=\"https://colab.research.google.com/github/verdwis/IR-Index-Compression/blob/main/Index_Compression.ipynb\" target=\"_parent\"><img src=\"https://colab.research.google.com/assets/colab-badge.svg\" alt=\"Open In Colab\"/></a>"
      ]
    },
    {
      "cell_type": "markdown",
      "source": [
        "## Load Google Drive"
      ],
      "metadata": {
        "id": "Y-HMo0zUgZsf"
      }
    },
    {
      "cell_type": "code",
      "source": [
        "from google.colab import drive\n",
        "drive.mount('/content/drive')"
      ],
      "metadata": {
        "colab": {
          "base_uri": "https://localhost:8080/"
        },
        "id": "61XpeC-RgUXJ",
        "outputId": "e7a3ef35-dcee-4305-bf89-bb3b39d7d805"
      },
      "execution_count": 1,
      "outputs": [
        {
          "output_type": "stream",
          "name": "stdout",
          "text": [
            "Mounted at /content/drive\n"
          ]
        }
      ]
    },
    {
      "cell_type": "markdown",
      "source": [
        "## Import library"
      ],
      "metadata": {
        "id": "AmcBtbYbhPVL"
      }
    },
    {
      "cell_type": "code",
      "source": [
        "import heapq\n",
        "import math\n",
        "from collections import defaultdict, OrderedDict\n",
        "import pydot\n",
        "from itertools import count\n",
        "import json\n",
        "import struct\n",
        "import pandas as pd\n",
        "import re\n",
        "from IPython.display import Image"
      ],
      "metadata": {
        "id": "fBhjadyygd99"
      },
      "execution_count": 3,
      "outputs": []
    },
    {
      "cell_type": "markdown",
      "source": [
        "# Membaca File Teks"
      ],
      "metadata": {
        "id": "7rcu8ocBbcUj"
      }
    },
    {
      "cell_type": "code",
      "source": [
        "with open(\"/content/drive/MyDrive/Semester 4/STBI/tugas 2/test.txt\", 'r') as myfile:\n",
        "    s2 = myfile.read().replace('\\n', ' ')\n",
        "    pattern = re.compile('[^\\sa-zA-Z]')\n",
        "    s2 = pattern.sub('',s2)"
      ],
      "metadata": {
        "id": "OK0aminZbbBz"
      },
      "execution_count": 4,
      "outputs": []
    },
    {
      "cell_type": "markdown",
      "source": [
        "# Menggunakan Fixed Width"
      ],
      "metadata": {
        "id": "ARyqMJWpZ9Nt"
      }
    },
    {
      "cell_type": "markdown",
      "source": [
        "Fungsi untuk membuat dictionary dan menghitung jumlah bit yang digunakan dengan dictionary tersebut"
      ],
      "metadata": {
        "id": "NMYvKyDAlo1W"
      }
    },
    {
      "cell_type": "code",
      "source": [
        "def get_dictionary(s):\n",
        "    d = {}\n",
        "\n",
        "    \n",
        "    s = list(filter(None, s.split(\" \")))\n",
        "    # Generating Key-Value pair for entire string\n",
        "    for i in s:\n",
        "        if i not in d.keys():\n",
        "            d[i] = 1\n",
        "        else:\n",
        "            d[i] = d[i] + 1\n",
        "    return d\n",
        "\n",
        "def get_bit_used(dict) :\n",
        "  byte = 0\n",
        "  for key, value in dict.items() : \n",
        "    return len(str(dict).encode('utf-8'))*8\n"
      ],
      "metadata": {
        "id": "SXu1LqM4lphq"
      },
      "execution_count": null,
      "outputs": []
    },
    {
      "cell_type": "code",
      "source": [
        "#Menampilkan Dictionary\n",
        "term_dict = get_dictionary(s2) \n",
        "print(term_dict)\n",
        "num_bits = get_bit_used(term_dict)\n",
        "print(\"Number of bit used : {}\".format(num_bits))"
      ],
      "metadata": {
        "colab": {
          "base_uri": "https://localhost:8080/"
        },
        "id": "z_RRu1inpGfG",
        "outputId": "70278520-1c2a-4593-e59d-b23943d55896"
      },
      "execution_count": null,
      "outputs": [
        {
          "output_type": "stream",
          "name": "stdout",
          "text": [
            "{'First': 1, 'line': 3, 'This': 2, 'is': 2, 'a': 1, 'test': 1, 'file': 1, 'second': 1, 'third': 1, 'and': 2, 'subsiquent': 1, 'lines': 1, 'more': 1}\n",
            "Number of bit used : 1184\n"
          ]
        }
      ]
    },
    {
      "cell_type": "code",
      "source": [
        "# Define an index of key-value pairs\n",
        "index = term_dict\n",
        "\n",
        "# Define the format string for each record\n",
        "format_str = '<20s20s'\n",
        "\n",
        "# Open a file for writing the compressed index\n",
        "with open('compressed_index.bin', 'wb') as f:\n",
        "    for key, value in index.items():\n",
        "        # Pack the key-value pair into a binary string\n",
        "        record = struct.pack(format_str, key.encode('utf-8'), str(value).encode('utf-8'))\n",
        "        # Write the binary string to the file\n",
        "        f.write(record)\n",
        "\n",
        "# Open the compressed index file for reading\n",
        "with open('compressed_index.bin', 'rb') as f:\n",
        "    compressed_index = {}\n",
        "    # Read the binary string from the file and unpack it into key-value pairs\n",
        "    while True:\n",
        "        record = f.read(struct.calcsize(format_str))\n",
        "        if not record:\n",
        "            break\n",
        "        key, value = struct.unpack(format_str, record)\n",
        "        #Add the key-value pair to the uncompressed index\n",
        "        compressed_index[key.decode('utf-8')] = value.decode('utf-8')\n",
        "\n",
        "# Print the uncompressed index\n",
        "print(compressed_index)\n"
      ],
      "metadata": {
        "id": "7Aw3_fPWbhrT",
        "colab": {
          "base_uri": "https://localhost:8080/"
        },
        "outputId": "3c67732d-1298-4fd6-fa6a-2737f08980be"
      },
      "execution_count": null,
      "outputs": [
        {
          "output_type": "stream",
          "name": "stdout",
          "text": [
            "{'First\\x00\\x00\\x00\\x00\\x00\\x00\\x00\\x00\\x00\\x00\\x00\\x00\\x00\\x00\\x00': '1\\x00\\x00\\x00\\x00\\x00\\x00\\x00\\x00\\x00\\x00\\x00\\x00\\x00\\x00\\x00\\x00\\x00\\x00\\x00', 'line\\x00\\x00\\x00\\x00\\x00\\x00\\x00\\x00\\x00\\x00\\x00\\x00\\x00\\x00\\x00\\x00': '3\\x00\\x00\\x00\\x00\\x00\\x00\\x00\\x00\\x00\\x00\\x00\\x00\\x00\\x00\\x00\\x00\\x00\\x00\\x00', 'This\\x00\\x00\\x00\\x00\\x00\\x00\\x00\\x00\\x00\\x00\\x00\\x00\\x00\\x00\\x00\\x00': '2\\x00\\x00\\x00\\x00\\x00\\x00\\x00\\x00\\x00\\x00\\x00\\x00\\x00\\x00\\x00\\x00\\x00\\x00\\x00', 'is\\x00\\x00\\x00\\x00\\x00\\x00\\x00\\x00\\x00\\x00\\x00\\x00\\x00\\x00\\x00\\x00\\x00\\x00': '2\\x00\\x00\\x00\\x00\\x00\\x00\\x00\\x00\\x00\\x00\\x00\\x00\\x00\\x00\\x00\\x00\\x00\\x00\\x00', 'a\\x00\\x00\\x00\\x00\\x00\\x00\\x00\\x00\\x00\\x00\\x00\\x00\\x00\\x00\\x00\\x00\\x00\\x00\\x00': '1\\x00\\x00\\x00\\x00\\x00\\x00\\x00\\x00\\x00\\x00\\x00\\x00\\x00\\x00\\x00\\x00\\x00\\x00\\x00', 'test\\x00\\x00\\x00\\x00\\x00\\x00\\x00\\x00\\x00\\x00\\x00\\x00\\x00\\x00\\x00\\x00': '1\\x00\\x00\\x00\\x00\\x00\\x00\\x00\\x00\\x00\\x00\\x00\\x00\\x00\\x00\\x00\\x00\\x00\\x00\\x00', 'file\\x00\\x00\\x00\\x00\\x00\\x00\\x00\\x00\\x00\\x00\\x00\\x00\\x00\\x00\\x00\\x00': '1\\x00\\x00\\x00\\x00\\x00\\x00\\x00\\x00\\x00\\x00\\x00\\x00\\x00\\x00\\x00\\x00\\x00\\x00\\x00', 'second\\x00\\x00\\x00\\x00\\x00\\x00\\x00\\x00\\x00\\x00\\x00\\x00\\x00\\x00': '1\\x00\\x00\\x00\\x00\\x00\\x00\\x00\\x00\\x00\\x00\\x00\\x00\\x00\\x00\\x00\\x00\\x00\\x00\\x00', 'third\\x00\\x00\\x00\\x00\\x00\\x00\\x00\\x00\\x00\\x00\\x00\\x00\\x00\\x00\\x00': '1\\x00\\x00\\x00\\x00\\x00\\x00\\x00\\x00\\x00\\x00\\x00\\x00\\x00\\x00\\x00\\x00\\x00\\x00\\x00', 'and\\x00\\x00\\x00\\x00\\x00\\x00\\x00\\x00\\x00\\x00\\x00\\x00\\x00\\x00\\x00\\x00\\x00': '2\\x00\\x00\\x00\\x00\\x00\\x00\\x00\\x00\\x00\\x00\\x00\\x00\\x00\\x00\\x00\\x00\\x00\\x00\\x00', 'subsiquent\\x00\\x00\\x00\\x00\\x00\\x00\\x00\\x00\\x00\\x00': '1\\x00\\x00\\x00\\x00\\x00\\x00\\x00\\x00\\x00\\x00\\x00\\x00\\x00\\x00\\x00\\x00\\x00\\x00\\x00', 'lines\\x00\\x00\\x00\\x00\\x00\\x00\\x00\\x00\\x00\\x00\\x00\\x00\\x00\\x00\\x00': '1\\x00\\x00\\x00\\x00\\x00\\x00\\x00\\x00\\x00\\x00\\x00\\x00\\x00\\x00\\x00\\x00\\x00\\x00\\x00', 'more\\x00\\x00\\x00\\x00\\x00\\x00\\x00\\x00\\x00\\x00\\x00\\x00\\x00\\x00\\x00\\x00': '1\\x00\\x00\\x00\\x00\\x00\\x00\\x00\\x00\\x00\\x00\\x00\\x00\\x00\\x00\\x00\\x00\\x00\\x00\\x00'}\n"
          ]
        }
      ]
    },
    {
      "cell_type": "code",
      "source": [
        "def get_split_points(filename, skiprows=0, testrows=10, sep=' '):\n",
        "    '''\n",
        "    Find the column split points in a fixed width file\n",
        "    '''\n",
        "    with open(filename) as myfile:\n",
        "        head = [next(myfile) for x in range(skiprows)]\n",
        "        testset = [next(myfile) for x in range(testrows)]\n",
        "        maxlength = len(max(testset , key = len))\n",
        "        spacecounts = [0 for col in range(maxlength)]\n",
        "        for string in testset:\n",
        "            for i in range(len(string)):\n",
        "                if string[i] == sep:\n",
        "                    spacecounts[i] += 1\n",
        "        indices = [i for i, x in enumerate(spacecounts) if x == testrows]\n",
        "        split_points = [0] + [x for x in indices if x-1 not in indices and x > 0 ]\n",
        "        return split_points"
      ],
      "metadata": {
        "id": "36AAPZnnbmHE"
      },
      "execution_count": null,
      "outputs": []
    },
    {
      "cell_type": "markdown",
      "source": [
        "# Menggunakan Dictionary as a string"
      ],
      "metadata": {
        "id": "gg0uRsS6aVcc"
      }
    },
    {
      "cell_type": "markdown",
      "source": [
        "Fungsi untuk melakukan kompresi pada string dan menghitung jumlah byte"
      ],
      "metadata": {
        "id": "YD0wd6G8ciIP"
      }
    },
    {
      "cell_type": "code",
      "source": [
        "def string_compression(s):\n",
        "    d = get_dictionary(s)\n",
        "    x = []\n",
        "\n",
        "    # Copying Key Value Pairs in a list\n",
        "    for key,value in d.items():\n",
        "        x.append(key)\n",
        "        x.append(value)\n",
        "\n",
        "    # Printing a Cocktail list of Strings and Integers\n",
        "    print(x)\n",
        "\n",
        "    # Converting Integers in list x to Strings and Joining them\n",
        "    for i in x[1::2]:\n",
        "        x[i] = str(x[i])\n",
        "\n",
        "    compression_result = ''.join(map(str, x))\n",
        "    return compression_result\n",
        "\n",
        "def get_bit_used(dict_str):\n",
        "  return len(dict_str.encode('utf-8')*8)"
      ],
      "metadata": {
        "id": "MPcEz1SBaaQE"
      },
      "execution_count": null,
      "outputs": []
    },
    {
      "cell_type": "markdown",
      "source": [
        "Menampilkan hasil dictionary as a string"
      ],
      "metadata": {
        "id": "AS3TGAtBpZaI"
      }
    },
    {
      "cell_type": "code",
      "source": [
        "# Hasil Kompresi\n",
        "strdict = string_compression(s2) \n",
        "strdict"
      ],
      "metadata": {
        "colab": {
          "base_uri": "https://localhost:8080/",
          "height": 54
        },
        "id": "L4KSBwoOpXvb",
        "outputId": "7d1759db-e4ed-4655-e21e-783ff4f8a718"
      },
      "execution_count": null,
      "outputs": [
        {
          "output_type": "stream",
          "name": "stdout",
          "text": [
            "['First', 1, 'line', 3, 'This', 2, 'is', 2, 'a', 1, 'test', 1, 'file', 1, 'second', 1, 'third', 1, 'and', 2, 'subsiquent', 1, 'lines', 1, 'more', 1]\n"
          ]
        },
        {
          "output_type": "execute_result",
          "data": {
            "text/plain": [
              "'First1line3This2is2a1test1file1second1third1and2subsiquent1lines1more1'"
            ],
            "application/vnd.google.colaboratory.intrinsic+json": {
              "type": "string"
            }
          },
          "metadata": {},
          "execution_count": 189
        }
      ]
    },
    {
      "cell_type": "markdown",
      "source": [
        "Menghitung jumlah bit yang digunakan"
      ],
      "metadata": {
        "id": "tr6LTflEpQhP"
      }
    },
    {
      "cell_type": "code",
      "source": [
        "print(\"Number of bit used : {}\".format(get_bit_used(strdict)))"
      ],
      "metadata": {
        "colab": {
          "base_uri": "https://localhost:8080/"
        },
        "id": "YSmGoE21pQEV",
        "outputId": "dbe967ac-0a9f-4b5c-9200-091659d80a65"
      },
      "execution_count": null,
      "outputs": [
        {
          "output_type": "stream",
          "name": "stdout",
          "text": [
            "Number of bit used : 560\n"
          ]
        }
      ]
    },
    {
      "cell_type": "code",
      "source": [
        "# Define an index of key-value pairs\n",
        "index = strdict\n",
        "\n",
        "# Convert the index to a JSON string\n",
        "index_str = json.dumps(index)\n",
        "\n",
        "# Write the compressed index to a file\n",
        "with open('compressed_index.json', 'w') as f:\n",
        "    f.write(index_str)\n",
        "\n",
        "# Read the compressed index from the file\n",
        "with open('compressed_index.json', 'r') as f:\n",
        "    compressed_index_str = f.read()\n",
        "\n",
        "# Convert the compressed index back to a dictionary\n",
        "compressed_index = json.loads(compressed_index_str)\n",
        "\n",
        "# Print the uncompressed index\n",
        "print(compressed_index)\n",
        "#Menghitung jumlah bit\n",
        "print(len(compressed_index.encode('utf-8')))\n"
      ],
      "metadata": {
        "colab": {
          "base_uri": "https://localhost:8080/"
        },
        "id": "G78cug4uaoAy",
        "outputId": "32c34769-a585-4a9b-b13a-0f4e77d3fc02"
      },
      "execution_count": null,
      "outputs": [
        {
          "output_type": "stream",
          "name": "stdout",
          "text": [
            "First1line3This2is2a1test1file1second1third1and2subsiquent1lines1more1\n",
            "70\n"
          ]
        }
      ]
    },
    {
      "cell_type": "code",
      "source": [
        "def compress_index(index):\n",
        "    \"\"\"\n",
        "    Compresses an index with dictionary as string using fixed-width encoding.\n",
        "    \"\"\"\n",
        "    # Convert the index to a string format\n",
        "    index_str = json.dumps(index)\n",
        "\n",
        "    # Determine the maximum index string length\n",
        "    max_length = len(index_str)\n",
        "\n",
        "    # Calculate the number of bytes required to represent the maximum length\n",
        "    num_bytes = (max_length.bit_length() + 7) // 8\n",
        "\n",
        "    # Create a format string for packing and unpacking lengths\n",
        "    length_format = f'>{num_bytes}s'\n",
        "\n",
        "    # Pack the lengths and strings using fixed-width encoding\n",
        "    compressed_index = {}\n",
        "    for key, value in index.items():\n",
        "        value = str(value)\n",
        "        packed_length = struct.pack(length_format.encode(), len(value.encode()))\n",
        "        packed_value = value.encode()\n",
        "        compressed_index[key] = packed_length + packed_value\n",
        "\n",
        "    return compressed_index\n",
        "    \n",
        "def decompress_index(compressed_index):\n",
        "    \"\"\"\n",
        "    Decompresses an index with dictionary as string that was compressed using fixed-width encoding.\n",
        "    \"\"\"\n",
        "    # Convert the index to a string format\n",
        "    index_str = json.dumps(compressed_index)\n",
        "\n",
        "    # Determine the maximum index string length\n",
        "    max_length = len(index_str)\n",
        "\n",
        "    # Calculate the number of bytes required to represent the maximum length\n",
        "    num_bytes = (max_length.bit_length() + 7) // 8\n",
        "\n",
        "    # Create a format string for packing and unpacking lengths\n",
        "    length_format = f'>{num_bytes}s'\n",
        "    # Unpack the lengths and strings using fixed-width encoding\n",
        "    decompressed_index = {}\n",
        "    for key, value in compressed_index.items():\n",
        "        num_bytes = (len(value) - struct.calcsize(length_format))\n",
        "        length = int.from_bytes(value[:num_bytes], 'big')\n",
        "        index_str = str(value[num_bytes:]).encode()\n",
        "        decompressed_index[key] = json.loads(index_str)\n",
        "\n",
        "    return decompressed_index"
      ],
      "metadata": {
        "id": "0XMegh-Jaowe"
      },
      "execution_count": null,
      "outputs": []
    },
    {
      "cell_type": "markdown",
      "source": [
        "# Huffman Encoding untuk file teks"
      ],
      "metadata": {
        "id": "m9jQvZ3IjQxx"
      }
    },
    {
      "cell_type": "markdown",
      "source": [
        "Class untuk merepresentasikan Node  Huffman tree"
      ],
      "metadata": {
        "id": "FyY9WXBdhx3n"
      }
    },
    {
      "cell_type": "code",
      "source": [
        "class node():\n",
        "    _ids = count(0)\n",
        "    def __init__(self, weight, symbol):\n",
        "        self.node = pydot.Node(next(self._ids), label=symbol)\n",
        "        graph.add_node(self.node)\n",
        "        self.weight = weight\n",
        "        self.symbol = symbol\n",
        "        self.left = None\n",
        "        self.right = None\n",
        "        \n",
        "    def addLeft(self, leftNode):\n",
        "        graph.add_edge(pydot.Edge(self.node, leftNode.node, label='0'))\n",
        "        self.left = leftNode\n",
        "        \n",
        "    def addRight(self, rightNode):\n",
        "        graph.add_edge(pydot.Edge(self.node, rightNode.node, label='1'))\n",
        "        self.right = rightNode \n",
        "    \n",
        "    def __lt__(self,other):\n",
        "        return self.weight < other.weight"
      ],
      "metadata": {
        "id": "C8Z1YU53hdJj"
      },
      "execution_count": null,
      "outputs": []
    },
    {
      "cell_type": "markdown",
      "source": [
        "Menentukan simbol encodings"
      ],
      "metadata": {
        "id": "DsxPr__wiIsd"
      }
    },
    {
      "cell_type": "code",
      "source": [
        "def getCodings(rootNode, currentEncoding):\n",
        "    if( rootNode.left == None and rootNode.right == None):\n",
        "        codings.append([rootNode.symbol, rootNode.weight, currentEncoding])\n",
        "    if( rootNode.left != None):\n",
        "        getCodings(rootNode.left, currentEncoding + '0')\n",
        "    if( rootNode.right != None):\n",
        "        getCodings(rootNode.right, currentEncoding + '1')"
      ],
      "metadata": {
        "id": "F07mHDchh78o"
      },
      "execution_count": null,
      "outputs": []
    },
    {
      "cell_type": "markdown",
      "source": [
        "Fungsi untuk melakukan Huffman Compression"
      ],
      "metadata": {
        "id": "bO8wQ_OIiUtf"
      }
    },
    {
      "cell_type": "code",
      "source": [
        "def Huffman(str):\n",
        "    #mendapatkan frequensi dari string asli \n",
        "    #(Mengestimatikan probabilitas symbol)\n",
        "    str_list = str.split(\" \")\n",
        "    str_list = list(filter(None, str_list))\n",
        "    frequencies = defaultdict(int)\n",
        "    for ch in str_list:\n",
        "      if ch != \" \" :\n",
        "        frequencies[ch] += 1\n",
        "    \n",
        "    #create simbol node\n",
        "    forest = []\n",
        "    for ch, weight in frequencies.items():\n",
        "        forest.append(node(weight, ch))\n",
        "    heap = heapq.heapify(forest)\n",
        "    \n",
        "    #build tree dari node\n",
        "    while len(forest) > 1:\n",
        "        node1 = heapq.heappop(forest)\n",
        "        node2 = heapq.heappop(forest)\n",
        "        newNode = node(node1.weight + node2.weight, \"\")\n",
        "        newNode.addLeft(node1)\n",
        "        newNode.addRight(node2)\n",
        "        heapq.heappush(forest, newNode)\n",
        "    \n",
        "    #cetak semua hasil compression \n",
        "    getCodings(forest[0], \"\")\n",
        "    codings.sort(key=lambda x: -x[1])\n",
        "    print(\"{: >15} {: >15} {: >15}\".format(\"Symbol\", \"Weight\", \"Code\"))\n",
        "    unencodedBits = 0\n",
        "    encodedBits = 0\n",
        "    numBits = math.ceil( math.log(len(codings), 2) )\n",
        "    for coding in codings:\n",
        "        print(\"{: >15} {: >15} {: >15}\".format(*coding))\n",
        "        unencodedBits += coding[1] * numBits\n",
        "        encodedBits += coding[1] * len(coding[2])\n",
        "    print(\"Number of bits (uncompressed) = \", unencodedBits)\n",
        "    print(\"Number of bits (compressed) = \", encodedBits)"
      ],
      "metadata": {
        "id": "3gGxWa2DiNHR"
      },
      "execution_count": null,
      "outputs": []
    },
    {
      "cell_type": "markdown",
      "source": [
        "Mengimplementasikan huffman decoding dalam menyimpan indeks."
      ],
      "metadata": {
        "id": "l3KcFYIZcG3Z"
      }
    },
    {
      "cell_type": "code",
      "source": [
        "graph = pydot.Dot(graph_type='graph')\n",
        "codings = []\n",
        "\n",
        "\n",
        "\n",
        "with open(\"/content/drive/Shareddrives/Temu Kembali/test.txt\", 'r') as myfile:\n",
        "    s2 = myfile.read().replace('\\n', ' ')\n",
        "    pattern = re.compile('[^\\sa-zA-Z]')\n",
        "    s2 = pattern.sub('',s2)\n",
        "\n",
        "Huffman(s2)\n",
        "graph.write_png(\"stbi.png\")\n",
        "Image(filename='stbi.png')"
      ],
      "metadata": {
        "colab": {
          "base_uri": "https://localhost:8080/",
          "height": 832
        },
        "id": "RXGluT2HjTQ6",
        "outputId": "c1542f52-33a2-4f4b-9f21-92562f02f7d8"
      },
      "execution_count": null,
      "outputs": [
        {
          "output_type": "stream",
          "name": "stdout",
          "text": [
            "         Symbol          Weight            Code\n",
            "           line               3             111\n",
            "             is               2             011\n",
            "            and               2             101\n",
            "           This               2            1101\n",
            "           file               1            0000\n",
            "           more               1            0001\n",
            "              a               1            0010\n",
            "          third               1            0011\n",
            "          First               1            0100\n",
            "     subsiquent               1            0101\n",
            "           test               1            1000\n",
            "          lines               1            1001\n",
            "         second               1            1100\n",
            "Number of bits (uncompressed) =  72\n",
            "Number of bits (compressed) =  65\n"
          ]
        },
        {
          "output_type": "execute_result",
          "data": {
            "image/png": "[encoded data removed]",
            "text/plain": [
              "<IPython.core.display.Image object>"
            ]
          },
          "metadata": {},
          "execution_count": 67
        }
      ]
    }
  ]
}